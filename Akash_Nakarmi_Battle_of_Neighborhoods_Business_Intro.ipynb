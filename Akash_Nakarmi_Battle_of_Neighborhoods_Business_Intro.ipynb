{
 "cells": [
  {
   "cell_type": "markdown",
   "metadata": {},
   "source": [
    "# The Battle of Neighbood"
   ]
  },
  {
   "cell_type": "markdown",
   "metadata": {},
   "source": [
    "## Business Problem Introduction"
   ]
  },
  {
   "cell_type": "markdown",
   "metadata": {},
   "source": [
    "The Saint Louis Metro City neighboorhoods are grouped as North, Central and South Corridors. It is familiar to STLcians that North corridor is predominantly Black while South corridor is predominantly White. The business problem here is to find what is the most common venues among the Black neighborhoods and see if this is different in White neighborhoods."
   ]
  },
  {
   "cell_type": "markdown",
   "metadata": {},
   "source": [
    "We will use Foursquare API to first verify that North corridor is indeed covers Black neighboorhoods and South corridor covers White neighborhoods. We will also check the number of venues in these neighborhoods and see how they compare against each other."
   ]
  },
  {
   "cell_type": "markdown",
   "metadata": {},
   "source": [
    "- We will use pandas.read_html function to scrape STL neighborhoods with demography data.\n",
    "- We will then add latitude and longitude to the neighborhoods Nominatim geoencode.\n",
    "- We will create map using folium.\n",
    "- Cluster the neighborhoods using sklearn's kmeans clustering algorithm.\n",
    "- We will plot corridors covering each cluster using seaborn and also look at average distribution of demography to verify predominant neighborhoods by demography.\n",
    "- We will use Foursquare API to get venues in Black and White neighborhoods.\n",
    "- We will find top five most common venue categories in each of the neighborhoods and finally check if the top venue categories are the same between these neighborhoods."
   ]
  },
  {
   "cell_type": "code",
   "execution_count": null,
   "metadata": {},
   "outputs": [],
   "source": []
  }
 ],
 "metadata": {
  "kernelspec": {
   "display_name": "Python 3",
   "language": "python",
   "name": "python3"
  },
  "language_info": {
   "codemirror_mode": {
    "name": "ipython",
    "version": 3
   },
   "file_extension": ".py",
   "mimetype": "text/x-python",
   "name": "python",
   "nbconvert_exporter": "python",
   "pygments_lexer": "ipython3",
   "version": "3.7.6"
  }
 },
 "nbformat": 4,
 "nbformat_minor": 4
}
