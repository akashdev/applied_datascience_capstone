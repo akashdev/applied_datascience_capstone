{
 "cells": [
  {
   "cell_type": "markdown",
   "metadata": {},
   "source": [
    "# The Battle of Neighbood"
   ]
  },
  {
   "cell_type": "markdown",
   "metadata": {},
   "source": [
    "## Introduction"
   ]
  },
  {
   "cell_type": "markdown",
   "metadata": {},
   "source": [
    "The Saint Louis Metro City neighborhoods are grouped as North, Central and South Corridors. It is familiar to STLcians that North corridor is predominantly Black while South corridor is predominantly White. The business problem here is to find what is the most common venues among the Black neighborhoods and see if this is different in White neighborhoods."
   ]
  },
  {
   "cell_type": "markdown",
   "metadata": {},
   "source": [
    "This could be interest to anyone who is curious about STL and its neighborhoods."
   ]
  },
  {
   "cell_type": "markdown",
   "metadata": {},
   "source": [
    "## Methodology"
   ]
  },
  {
   "cell_type": "markdown",
   "metadata": {},
   "source": [
    "- We will use pandas.read_html function to scrape STL neighborhoods with demography data.\n",
    "- We will then add latitude and longitude to the neighborhoods Nominatim geocoder.\n",
    "- We will create map using folium.\n",
    "- Cluster the neighborhoods using sklearn's kmeans clustering algorithm.\n",
    "- We will plot corridors covering each cluster using seaborn and also look at average distribution of demography to verify predominant neighborhoods by demography.\n",
    "- We will use Foursquare API to get venues in Black and White neighborhoods.\n",
    "- We will find top five most common venue categories in each of the neighborhoods and finally check if the top venue categories are the same between these neighborhoods."
   ]
  },
  {
   "cell_type": "markdown",
   "metadata": {},
   "source": [
    "## Data"
   ]
  },
  {
   "cell_type": "markdown",
   "metadata": {},
   "source": [
    "We will use public data available in Wikipedia to get demographic data about STL neighborhoods and then Foursquare API to get venues in those neighborhoods. Figure below shows neighborhood data structure.\n",
    "![](stl_nbr.png)"
   ]
  },
  {
   "cell_type": "markdown",
   "metadata": {},
   "source": [
    "## Results and Discussions"
   ]
  },
  {
   "cell_type": "markdown",
   "metadata": {},
   "source": [
    "The North corridor is indeed predominantly Black with 93.29% population and South corridor is predominantly White with 85.27% population. Here's the corridor distribution by cluster.\n",
    "![](stl_corridor.png)"
   ]
  },
  {
   "cell_type": "markdown",
   "metadata": {},
   "source": [
    "The STL neighborhoods cluster map is shown below. The red labels are cluster 0 which are predominantly Black and blue labels are cluster 2 which are predominantly White.\n",
    "![](stl_clusters.png)"
   ]
  },
  {
   "cell_type": "markdown",
   "metadata": {},
   "source": [
    "A few cluster 0 neighborhoods are shown below.\n",
    "![](stl_0.png)"
   ]
  },
  {
   "cell_type": "markdown",
   "metadata": {},
   "source": [
    "A few cluster 2 neighborhoods are shown below.\n",
    "![](stl_2.png)"
   ]
  },
  {
   "cell_type": "markdown",
   "metadata": {},
   "source": [
    "In North corridor (cluster 0), the neighborhoods with most venue categories are shown below.\n",
    "![](blk_venue_cats.png)"
   ]
  },
  {
   "cell_type": "markdown",
   "metadata": {},
   "source": [
    "Similarly, in South corridor (cluster 2), the neighborhoods with most venue categories are shown below.\n",
    "![](wht_venue_cats.png)"
   ]
  },
  {
   "cell_type": "markdown",
   "metadata": {},
   "source": [
    "You can see from above tables that South corridor has a lot more venues compared to the North corridor. How about the population in these neighborhoods? The data shows that total population of cluster 0 neighborhoods is 93648, while that of cluster 2 neighborhoods is 89775. The population of these two neighborhood clusters are not that big. It could mean that people in cluster 2 neighborhoods use Foursqure more often than those in cluster 0 neighborhoods."
   ]
  },
  {
   "cell_type": "markdown",
   "metadata": {},
   "source": [
    "Lets look at the most visited venues in cluster 0 neighborhoods.\n",
    "![](blk_most.png)"
   ]
  },
  {
   "cell_type": "markdown",
   "metadata": {},
   "source": [
    "Finally, lets look at the most visited venues in cluster 2 neighborhoods.\n",
    "![](wht_most_.png)"
   ]
  },
  {
   "cell_type": "markdown",
   "metadata": {},
   "source": [
    "Park does appear to be the one of them most visited venues in both the neighborhoods. So do American Restaurant and Bar. This is definitely not a conclusive report."
   ]
  },
  {
   "cell_type": "code",
   "execution_count": null,
   "metadata": {},
   "outputs": [],
   "source": []
  }
 ],
 "metadata": {
  "kernelspec": {
   "display_name": "Python 3",
   "language": "python",
   "name": "python3"
  },
  "language_info": {
   "codemirror_mode": {
    "name": "ipython",
    "version": 3
   },
   "file_extension": ".py",
   "mimetype": "text/x-python",
   "name": "python",
   "nbconvert_exporter": "python",
   "pygments_lexer": "ipython3",
   "version": "3.7.6"
  }
 },
 "nbformat": 4,
 "nbformat_minor": 4
}
